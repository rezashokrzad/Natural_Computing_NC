{
  "nbformat": 4,
  "nbformat_minor": 0,
  "metadata": {
    "colab": {
      "name": "Assignment3.NC.ipynb",
      "provenance": [],
      "collapsed_sections": [],
      "toc_visible": true
    },
    "kernelspec": {
      "name": "python3",
      "display_name": "Python 3"
    }
  },
  "cells": [
    {
      "cell_type": "markdown",
      "metadata": {
        "id": "uaeEWMbWbGYB"
      },
      "source": [
        "* Josip Koprčina, S1062758\n",
        "* Reza Shokrzad, S1056369\n",
        "* Pratik Kulkarni S1051211"
      ]
    },
    {
      "cell_type": "markdown",
      "metadata": {
        "id": "jICqbRrJGJJ7"
      },
      "source": [
        "#Anomaly Detection using Negative Selection Algorithms"
      ]
    },
    {
      "cell_type": "markdown",
      "metadata": {
        "id": "Kj-17b5jGSAG"
      },
      "source": [
        "##**1.** Using the Negative Selection Algorithm"
      ]
    },
    {
      "cell_type": "markdown",
      "metadata": {
        "id": "lMUZGSXCGiLq"
      },
      "source": [
        "**1.1** Compute the area under the receiver operating characteristic curve (AUC) to quantify how well the negative selection algorithm with parameters n = 10; r = 4 discriminates individual English strings from Tagalog strings by using the ﬁles english.train for training and english.test as well as tagalog.test for testing."
      ]
    },
    {
      "cell_type": "code",
      "metadata": {
        "id": "k0esIm0iuHWJ"
      },
      "source": [
        "import numpy as np\n",
        "import matplotlib.pyplot as plt\n",
        "import pandas as pd"
      ],
      "execution_count": null,
      "outputs": []
    },
    {
      "cell_type": "code",
      "metadata": {
        "id": "ydGl-r52vEzM"
      },
      "source": [
        "data_4 = pd.read_csv('merge_file_r=4.csv').values"
      ],
      "execution_count": null,
      "outputs": []
    },
    {
      "cell_type": "code",
      "metadata": {
        "colab": {
          "base_uri": "https://localhost:8080/",
          "height": 281
        },
        "id": "DO0MKUTG2tw9",
        "outputId": "fbf09471-dfa8-415f-f019-3adfeb1d6c06"
      },
      "source": [
        "from sklearn.metrics import roc_curve\n",
        "# from sklearn.metrics import plot_roc_curve\n",
        "from sklearn.metrics import roc_auc_score\n",
        "#roc_curve returns 3 values (FPR, TPR, Thresholds)\n",
        "#roc_curve needs positive score as its second input so we should change our anomaly score\n",
        "#FPR = 1 - specificity\n",
        "#TPR = sensivisity\n",
        "#we need two first outputs for ploting the ROC\n",
        "FPR, TPR, _ = roc_curve(data_4[:, 1], 1-(data_4[:,0]), drop_intermediate=False )\n",
        "\n",
        "#we compute AUC to assess our model\n",
        "AUC = roc_auc_score(data_4[:, 1], 1-data_4[:, 0])\n",
        "\n",
        "#plot the ROC\n",
        "plt.plot(FPR , TPR)\n",
        "plt.title('AUC = ' + str(AUC));\n"
      ],
      "execution_count": null,
      "outputs": [
        {
          "output_type": "display_data",
          "data": {
            "image/png": "[encoded data removed]",
            "text/plain": [
              "<Figure size 432x288 with 1 Axes>"
            ]
          },
          "metadata": {
            "tags": [],
            "needs_background": "light"
          }
        }
      ]
    },
    {
      "cell_type": "markdown",
      "metadata": {
        "id": "Yiyye3Xz0WYd"
      },
      "source": [
        "The Area Under the Curve has concluded 0.79 which is a simple criterion to assess our discriminator in detecting the anomaly."
      ]
    },
    {
      "cell_type": "markdown",
      "metadata": {
        "id": "JBBVHMeY2RcG"
      },
      "source": [
        "**1.2.** How does the AUC change when you modify the parameter r? Speciﬁcally, what behaviour do you observe\n",
        "at r = 1 and r = 9 and how can you explain this behaviour? Which value of r leads to the best discrimination?"
      ]
    },
    {
      "cell_type": "code",
      "metadata": {
        "id": "88BRaxqky2fF",
        "colab": {
          "base_uri": "https://localhost:8080/",
          "height": 302
        },
        "outputId": "7debf515-2c74-4af9-837c-bf0f6193b6c3"
      },
      "source": [
        "data = []\n",
        "for i in range (9):\n",
        "  data.append(pd.read_csv('merge_file_r=' + str(i+1) + '.csv').values)\n",
        "  \n",
        "# data_2 = pd.read_csv('merge_file_r=2.csv').values\n",
        "# data_3 = pd.read_csv('merge_file_r=3.csv').values\n",
        "# data_4 = pd.read_csv('merge_file_r=4.csv').values\n",
        "# data_5 = pd.read_csv('merge_file_r=5.csv').values\n",
        "# data_6 = pd.read_csv('merge_file_r=6.csv').values\n",
        "# data_7 = pd.read_csv('merge_file_r=7.csv').values\n",
        "# data_8 = pd.read_csv('merge_file_r=8.csv').values\n",
        "# data_9 = pd.read_csv('merge_file_r=9.csv').values\n",
        "\n",
        "#finding our FPRs and TPRs for ploting ROCs\n",
        "plt.suptitle('AUC for 9 differnet r', fontsize=7)\n",
        "plt.axes([0.05,0.05,0.9,0.9])\n",
        "\n",
        "\n",
        "for i in range(9):\n",
        "  FPR, TPR, _ = roc_curve(data[i][:, 1], 1-(data[i][:,0]), drop_intermediate=False)\n",
        "  AUC = roc_auc_score(data[i][:, 1], 1-data[i][:, 0])\n",
        "  \n",
        "  plt.subplot(3, 3, i+1)\n",
        "  plt.plot(FPR , TPR)\n",
        "  plt.title('$AUC_(r=' + str(i+1) + ')$ = ' + str(round(AUC, 2)), fontsize=8)\n",
        "\n",
        "plt.tight_layout()\n",
        "# FPR2, TPR2, _ = roc_curve(data_2[:, 1], 1-(data_2[:,0]), drop_intermediate=False)\n",
        "# FPR3, TPR3, _ = roc_curve(data_3[:, 1], 1-(data_3[:,0]), drop_intermediate=False)\n",
        "# FPR4, TPR4, _ = roc_curve(data_4[:, 1], 1-(data_4[:,0]), drop_intermediate=False)\n",
        "# FPR5, TPR5, _ = roc_curve(data_5[:, 1], 1-(data_5[:,0]), drop_intermediate=False)\n",
        "# FPR6, TPR6, _ = roc_curve(data_6[:, 1], 1-(data_6[:,0]), drop_intermediate=False)\n",
        "# FPR7, TPR7, _ = roc_curve(data_7[:, 1], 1-(data_7[:,0]), drop_intermediate=False)\n",
        "# FPR8, TPR8, _ = roc_curve(data_8[:, 1], 1-(data_8[:,0]), drop_intermediate=False)\n",
        "# FPR9, TPR9, _ = roc_curve(data_9[:, 1], 1-(data_9[:,0]), drop_intermediate=False)\n",
        "\n",
        "#we compute AUC to assess our model\n",
        "# AUC1 = roc_auc_score(data[0][:, 1], 1-data[0][:, 0])\n",
        "# AUC2 = roc_auc_score(data_2[:, 1], 1-data_2[:, 0])\n",
        "# AUC3 = roc_auc_score(data_3[:, 1], 1-data_3[:, 0])\n",
        "# AUC4 = roc_auc_score(data_4[:, 1], 1-data_4[:, 0])\n",
        "# AUC5 = roc_auc_score(data_5[:, 1], 1-data_5[:, 0])\n",
        "# AUC6 = roc_auc_score(data_6[:, 1], 1-data_6[:, 0])\n",
        "# AUC7 = roc_auc_score(data_7[:, 1], 1-data_7[:, 0])\n",
        "# AUC8 = roc_auc_score(data_8[:, 1], 1-data_8[:, 0])\n",
        "# AUC9 = roc_auc_score(data_9[:, 1], 1-data_9[:, 0])\n",
        "\n",
        "# #plot the ROCs\n",
        "# plt.suptitle('AUC for 9 differnet r', fontsize=7)\n",
        "# plt.axes([0.05,0.05,0.9,0.9])\n",
        "# plt.subplot(3, 3, 1)\n",
        "# plt.plot(FPR1 , TPR1)\n",
        "# plt.title('$AUC_(r=1)$ = ' + str(round(AUC1, 2)), fontsize=8)\n",
        "\n",
        "\n",
        "# plt.subplot(3, 3, 2)\n",
        "# plt.plot(FPR2 , TPR2)\n",
        "# plt.title('$AUC_(r=2)$ = ' + str(round(AUC2, 2)), fontsize=8)\n",
        "\n",
        "\n",
        "# plt.subplot(3, 3, 3)\n",
        "# plt.plot(FPR3 , TPR3)\n",
        "# plt.title('$AUC_(r=3)$ = ' + str(round(AUC3, 2)), fontsize=8)\n",
        "\n",
        "\n",
        "# plt.subplot(3, 3, 4)\n",
        "# plt.plot(FPR4 , TPR4)\n",
        "# plt.title('$AUC_(r=4)$ = ' + str(round(AUC4, 2)), fontsize=8)\n",
        "# plt.ylabel('$TPR$')\n",
        "\n",
        "# plt.subplot(3, 3, 5)\n",
        "# plt.plot(FPR5 , TPR5)\n",
        "# plt.title('$AUC_(r=5)$ = ' + str(round(AUC5, 2)), fontsize=8)\n",
        "\n",
        "# plt.subplot(3, 3, 6)\n",
        "# plt.plot(FPR6 , TPR6)\n",
        "# plt.title('$AUC_(r=6)$ = ' + str(round(AUC6, 2)), fontsize=8)\n",
        "\n",
        "# plt.subplot(3, 3, 7)\n",
        "# plt.plot(FPR7 , TPR7)\n",
        "# plt.title('$AUC_(r=7)$ = ' + str(round(AUC7, 2)), fontsize=8)\n",
        "\n",
        "\n",
        "# plt.subplot(3, 3, 8)\n",
        "# plt.plot(FPR8 , TPR8)\n",
        "# plt.title('$AUC_(r=8)$ = ' + str(round(AUC8, 2)), fontsize=8)\n",
        "# plt.xlabel('$FPR$')\n",
        "\n",
        "# plt.subplot(3, 3, 9)\n",
        "# plt.plot(FPR9 , TPR9)\n",
        "# plt.title('$AUC_(r=9)$ = ' + str(round(AUC9, 2)), fontsize=8)\n",
        "\n"
      ],
      "execution_count": null,
      "outputs": [
        {
          "output_type": "display_data",
          "data": {
            "image/png": "[encoded data removed]",
            "text/plain": [
              "<Figure size 432x288 with 9 Axes>"
            ]
          },
          "metadata": {
            "tags": [],
            "needs_background": "light"
          }
        }
      ]
    },
    {
      "cell_type": "markdown",
      "metadata": {
        "id": "1MszKefvDl2M"
      },
      "source": [
        "As it is clear, the best AUC happened in r=3 which is 0.83. Based on AUC outputs, it can be concluded that with lower than 3 for amounts of r we are generalizing the matching that leads to missing anomalies. On the contrary, with larger amounts of r, we would be not able to get enough matching, and apparently, the model considers all strings as anomalies. Thus, in both r=1 and r=9 cases, the file is so sparse and the curve is almost linear means AUC is so close to 0.5 which indicates the model has no discrimination capacity to distinguish between positive class and negative class."
      ]
    },
    {
      "cell_type": "markdown",
      "metadata": {
        "id": "P9oN8fTiWvoQ"
      },
      "source": [
        "**1.3.** The folder lang contains strings from 4 other languages. Determine which of these languages can be best discriminated from English using the negative selection algorithm, and for which of the languages this is most difficult. Can you explain your ﬁndings?"
      ]
    },
    {
      "cell_type": "code",
      "metadata": {
        "colab": {
          "base_uri": "https://localhost:8080/",
          "height": 302
        },
        "id": "rCy1NWZ_W7GH",
        "outputId": "35039f76-d29d-4249-bdbc-80b9c02462b4"
      },
      "source": [
        "data_1 = pd.read_csv('merge_file_hiligaynon_r4.csv').values\n",
        "data_2 = pd.read_csv('merge_file_middle-english_r4.csv').values\n",
        "data_3 = pd.read_csv('merge_file_plautdietsch_r4.csv').values\n",
        "data_4 = pd.read_csv('merge_file_xhosa .csv').values\n",
        "#finding our FPRs and TPRs for ploting ROCs\n",
        "FPR1, TPR1, _ = roc_curve(data_1[:, 1], 1-(data_1[:,0]), drop_intermediate=False)\n",
        "FPR2, TPR2, _ = roc_curve(data_2[:, 1], 1-(data_2[:,0]), drop_intermediate=False)\n",
        "FPR3, TPR3, _ = roc_curve(data_3[:, 1], 1-(data_3[:,0]), drop_intermediate=False)\n",
        "FPR4, TPR4, _ = roc_curve(data_4[:, 1], 1-(data_4[:,0]), drop_intermediate=False)\n",
        "#we compute AUC to assess our model\n",
        "AUC1 = roc_auc_score(data_1[:, 1], 1-data_1[:, 0])\n",
        "AUC2 = roc_auc_score(data_2[:, 1], 1-data_2[:, 0])\n",
        "AUC3 = roc_auc_score(data_3[:, 1], 1-data_3[:, 0])\n",
        "AUC4 = roc_auc_score(data_4[:, 1], 1-data_4[:, 0])\n",
        "\n",
        "#plot the ROCs\n",
        "plt.suptitle('AUC for 4 different languages', fontsize=7)\n",
        "plt.axes([0.05,0.05,0.9,0.9])\n",
        "\n",
        "plt.subplot(2, 2, 1)\n",
        "plt.plot(FPR1 , TPR1)\n",
        "plt.title('$AUC_(hiligaynon)$ = ' + str(round(AUC1, 2)), fontsize=8)\n",
        "plt.ylabel('$TPR$')\n",
        "\n",
        "plt.subplot(2, 2, 2)\n",
        "plt.plot(FPR2 , TPR2)\n",
        "plt.title('$AUC_(middle-english)$ = ' + str(round(AUC2, 2)), fontsize=8)\n",
        "\n",
        "plt.subplot(2, 2, 3)\n",
        "plt.plot(FPR3 , TPR3)\n",
        "plt.title('$AUC_(plautdietsch)$ = ' + str(round(AUC3, 2)), fontsize=8)\n",
        "\n",
        "plt.subplot(2, 2, 4)\n",
        "plt.plot(FPR4 , TPR4)\n",
        "plt.title('$AUC_(xhosa)$ = ' + str(round(AUC4, 2)), fontsize=8)\n",
        "\n",
        "plt.xlabel('$FPR$')\n",
        "\n",
        "plt.tight_layout()"
      ],
      "execution_count": null,
      "outputs": [
        {
          "output_type": "display_data",
          "data": {
            "image/png": "[encoded data removed]",
            "text/plain": [
              "<Figure size 432x288 with 4 Axes>"
            ]
          },
          "metadata": {
            "tags": [],
            "needs_background": "light"
          }
        }
      ]
    },
    {
      "cell_type": "markdown",
      "metadata": {
        "id": "FKLpOPPVdXy1"
      },
      "source": [
        "According to the AUC results, it can be interpretable that the Xhosa language (AUC=0.83) is the best-matched language with English among those 4 because the true positive rate (TPR) is high in this case. On the other side, the worst marching belongs to the Middle-English language with AUC=0.53 which means there is so weak relation between English and Middle-English. "
      ]
    },
    {
      "cell_type": "markdown",
      "metadata": {
        "id": "zGYa7vuhyL-f"
      },
      "source": [
        "##**2.** Intrusion Detection for Unix Processes"
      ]
    },
    {
      "cell_type": "markdown",
      "metadata": {
        "id": "txvo3uYKyrvK"
      },
      "source": [
        "Use negative selection to detect anomalous sequences in the system calls datasets! Perform an AUC analysis to evaluate the quality of your classification.\n"
      ]
    },
    {
      "cell_type": "code",
      "metadata": {
        "id": "4dI2Gov0B70O"
      },
      "source": [
        "train = open(\"snd-cert.train\", \"r\").read()\n",
        "labels_one = open(\"snd-cert.1.labels\", \"r\").readlines()\n",
        "test_one = open(\"snd-cert.1.test\", \"r\").readlines()\n",
        "labels_two = open(\"snd-cert.2.labels\", \"r\").readlines()\n",
        "test_two = open(\"snd-cert.2.test\", \"r\").readlines()\n",
        "\n",
        "n = 10\n",
        "train_pp = [train[i:i+n] for i in range(0, len(train), n)] \n",
        "\n",
        "test_pp1 = [[element[i:i+n] for i in range(0, len(element),n)] for element in test_one]\n",
        "length1 = [len(x) for x in test_pp1]\n",
        "test_pp2 = [[element[i:i+n] for i in range(0, len(element),n)] for element in test_two]\n",
        "length2 = [len(x) for x in test_pp2]\n",
        "\n",
        "## Writing into files\n",
        "f = open(\"train_pp.txt\", \"w\")\n",
        "for element in train_pp:\n",
        "  f.write(element + \"\\n\")\n",
        "f.close()\n",
        "\n",
        "f = open(\"test_pp1.txt\", \"w\")\n",
        "for element in test_pp1:\n",
        "  for x in element:\n",
        "    f.write(x + \"\\n\")\n",
        "f.close()\n",
        "f = open(\"test_pp2.txt\", \"w\")\n",
        "for element in test_pp2:\n",
        "  for x in element:\n",
        "    f.write(x + \"\\n\")\n",
        "f.close()"
      ],
      "execution_count": null,
      "outputs": []
    },
    {
      "cell_type": "code",
      "metadata": {
        "id": "LP-xyDWvuOjH"
      },
      "source": [
        "output_one = open(\"output_one.txt\", \"r\").readlines()\n",
        "output_two = open(\"output_two.txt\", \"r\").readlines()\n",
        "output_numbers = []\n",
        "\n",
        "numbers = []\n",
        "curr = 0\n",
        "for x in length1:\n",
        "  curr += x\n",
        "  sum = 0\n",
        "  for j in range(curr - x, curr):\n",
        "    number = output_one[j][:-2]\n",
        "    if number == \"Na\":\n",
        "      continue\n",
        "    sum += float(number)\n",
        "  numbers.append(sum/x)\n",
        "output_numbers.append(numbers)\n",
        "\n",
        "numbers = []\n",
        "curr = 0\n",
        "for x in length2:\n",
        "  curr += x\n",
        "  sum = 0\n",
        "  for j in range(curr - x, curr):\n",
        "    number = output_two[j][:-2]\n",
        "    if number == \"Na\":\n",
        "      continue\n",
        "    sum += float(number)\n",
        "  numbers.append(sum/x)\n",
        "output_numbers.append(numbers)\n",
        "\n",
        "for j in range(2):\n",
        "  for i in range(len(output_numbers[j])):\n",
        "    if output_numbers[j][i] != 0:\n",
        "      output_numbers[j][i] = 1\n",
        "    output_numbers[j][i] = 1 - output_numbers[j][i]\n",
        "\n",
        "labels = [labels_one, labels_two]\n",
        "for j in range(2):\n",
        "  for i in range(len(labels[j])):\n",
        "    labels[j][i].replace(\"\\n\", \"\")\n",
        "    labels[j][i] = int(labels[j][i])"
      ],
      "execution_count": null,
      "outputs": []
    },
    {
      "cell_type": "code",
      "metadata": {
        "id": "BKD6Hl1yo0sO",
        "colab": {
          "base_uri": "https://localhost:8080/",
          "height": 183
        },
        "outputId": "841ab787-5950-4552-b8d2-8191b60776e0"
      },
      "source": [
        "#finding our FPRs and TPRs for ploting ROCs\n",
        "FPR1, TPR1, _ = roc_curve(labels_one, output_numbers[0], drop_intermediate=False)\n",
        "FPR2, TPR2, _ = roc_curve(labels_two, output_numbers[1], drop_intermediate=False)\n",
        "\n",
        "#we compute AUC to assess our model\n",
        "AUC1 = roc_auc_score(labels_one, output_numbers[0])\n",
        "AUC2 = roc_auc_score(labels_two, output_numbers[1])\n",
        "\n",
        "#plot the ROCs\n",
        "plt.axes([0.05,0.05,0.9,0.9])\n",
        "\n",
        "plt.subplot(2, 2, 1)\n",
        "plt.plot(FPR1 , TPR1)\n",
        "plt.title('$AUC_(snd-cert-test1)$ = ' + str(round(AUC1, 2)), fontsize=8)\n",
        "plt.ylabel('$TPR$')\n",
        "\n",
        "plt.subplot(2, 2, 2)\n",
        "plt.plot(FPR2 , TPR2)\n",
        "plt.title('$AUC_(snd-cert-test2)$ = ' + str(round(AUC2, 2)), fontsize=8)\n",
        "plt.xlabel('$FPR$')\n",
        "\n",
        "plt.tight_layout()"
      ],
      "execution_count": null,
      "outputs": [
        {
          "output_type": "display_data",
          "data": {
            "image/png": "[encoded data removed]",
            "text/plain": [
              "<Figure size 432x288 with 2 Axes>"
            ]
          },
          "metadata": {
            "tags": [],
            "needs_background": "light"
          }
        }
      ]
    },
    {
      "cell_type": "markdown",
      "metadata": {
        "id": "s6mXy10c6C5G"
      },
      "source": [
        "The AUC curve shows that the negative selection algorithm works better for the first than second test set for r = 4."
      ]
    }
  ]
}