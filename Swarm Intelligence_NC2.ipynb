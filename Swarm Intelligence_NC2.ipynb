{
  "nbformat": 4,
  "nbformat_minor": 0,
  "metadata": {
    "colab": {
      "name": "Natural Computing Assignment 2.ipynb",
      "provenance": [],
      "collapsed_sections": []
    },
    "kernelspec": {
      "name": "python3",
      "display_name": "Python 3"
    }
  },
  "cells": [
    {
      "cell_type": "markdown",
      "metadata": {
        "id": "3nmqWF-iLUvY"
      },
      "source": [
        "# Exercises: Swarm Intelligence"
      ]
    },
    {
      "cell_type": "markdown",
      "metadata": {
        "id": "-iTFXKPfLWO6"
      },
      "source": [
        "1. (PSO) [2 points] Suppose you want to use a PSO system to maximize the function\n",
        "$$f(x) = \\sum_{i=1}^{2}(-x(i)) sin(\\sqrt{( \\mid x(i) \\mid)}),$$\n",
        "where $−500 ≤ x(i) ≤ 500$. A graph of this function is shown in the slides of the lecture (the function’s global maximum is at $f(x) = 837.9658$ for $x(i) = −420.9687, i = 1,2)$.\n",
        "Consider an illustrative example of a PSO system for composed of three particles. The space of solutions is a two dimensional real valued space: $−500 ≤ x(i) ≤ 500$. Consider the update rule for each particle $i$:\n",
        "\n",
        "$$ v_i = \\omega v_i + \\alpha_1 r_1 (x_i^* - x_i) + \\alpha_1 r_2 (x^* - x_i),  $$\n",
        "\n",
        "where $x_i^*$ denotes the personal best and $x^∗$ the social (global) best. To facilitate calculation, for this exercise we will ignore the fact that $r_1$ and $r_2$ are random numbers and fix them to $0.5$ and $α_1 = α_2 = 1$. Suppose the current state of the swarm is as follows.\n",
        "\n",
        "\n",
        "*   Position of particles: $x1 = (−400, −400); x2 = (−410, −410); x3 = (−415, −415)$;\n",
        "*  Individual best positions: $x_1^∗ = x_1; x_2^* = x_2; x_3^* = x_3$;\n",
        "* Social best position: $x^∗ = x_3$;\n",
        "* Velocities: $v_1 = v_2 = v_3 = (−50, −50)$\n",
        "\n",
        "\n",
        "\n",
        "(a) Compute the fitness of each particle.\n",
        "\n",
        "(b) What would be the next position and fitness of each particle after one iteration of th PSO algorithm, when using $\\omega=2$,$\\omega=0.5$,and $\\omega=0.1$? (Incase a component of a new position falls outside the range $−500 ≤ x(i) ≤ 500$, it is mapped to its closest value in the range. For instance, if the computation of new position gives $(550, 500)$, it is set to $(500, 500)$.)\n",
        "\n",
        "(c) Explain what is the effect of the parameter $\\omega$.\n",
        "\n",
        "(d) Give an advantage and a disadvantage of a high value of $\\omega$.\n",
        "\n",
        "\n",
        "\n"
      ]
    },
    {
      "cell_type": "code",
      "metadata": {
        "id": "u_S5WVKwbFpQ",
        "colab": {
          "base_uri": "https://localhost:8080/"
        },
        "outputId": "66bcb9e2-cee9-4a72-9833-4080db1c4ee6"
      },
      "source": [
        "import numpy as np\n",
        "import math\n",
        "\n",
        "def fitness(x):\n",
        "  return sum([(-x[i])*math.sin(math.sqrt(abs(x[i]))) for i in range(2)])\n",
        "\n",
        "def newVal(old_v, omega, alpha1, alpha2, r1, r2, old_x, local_best, global_best,):\n",
        "  return omega*old_v + alpha1*r1*(local_best - old_x) + alpha2*r2*(global_best - old_x)\n",
        "\n",
        "omega_list = [2, 0.5, 0.1]\n",
        "r1, r2 = 0.5, 0.5\n",
        "alpha1, alpha2 = 1, 1\n",
        "x1, x2, x3 = np.array([-400, -400]), np.array([-410, -410]), np.array([-415, -415])\n",
        "x_list = [x1, x2, x3]\n",
        "v1, v2, v3 = np.array([-50, -50]), np.array([-50, -50]), np.array([-50, -50])\n",
        "v_list = [v1, v2, v3]\n",
        "\n",
        "print(\"a)\")\n",
        "for x in x_list:\n",
        "  print(\"The fitness function of x=\" + str(x) + \" is \" + str(fitness(x)) + \".\")\n",
        "\n",
        "print(\"b)\")\n",
        "for omega in omega_list:\n",
        "  for j in range(3):\n",
        "    new_v = newVal(v_list[j], omega, alpha1, alpha2, r1, r2, x_list[j], x_list[j], x_list[2])\n",
        "    x = x_list[j] + new_v\n",
        "    if(x[0] < -500):\n",
        "      x[0] = -500\n",
        "    if(x[0] > 500):\n",
        "      x[0] = 500\n",
        "    if(x[1] < -500):\n",
        "      x[1] = -500\n",
        "    if(x[1] > 500):\n",
        "      x[1] = 500\n",
        "    print(\"The new value for x\" + str(j+1) + \"=\" + str(x_list[j]) + \" when using omega=\" + str(omega) + \" is \" + str(x) + \" with fitness \" + str(fitness(x)) + \".\")"
      ],
      "execution_count": null,
      "outputs": [
        {
          "output_type": "stream",
          "text": [
            "a)\n",
            "The fitness function of x=[-400 -400] is 730.3562005821021.\n",
            "The fitness function of x=[-410 -410] is 807.9150929576671.\n",
            "The fitness function of x=[-415 -415] is 829.0117583869608.\n",
            "b)\n",
            "The new value for x1=[-400 -400] when using omega=2 is [-500. -500.] with fitness -361.1783170627835.\n",
            "The new value for x2=[-410 -410] when using omega=2 is [-500. -500.] with fitness -361.1783170627835.\n",
            "The new value for x3=[-415 -415] when using omega=2 is [-500. -500.] with fitness -361.1783170627835.\n",
            "The new value for x1=[-400 -400] when using omega=0.5 is [-432.5 -432.5] with fitness 804.4822309250023.\n",
            "The new value for x2=[-410 -410] when using omega=0.5 is [-437.5 -437.5] with fitness 769.4947716725984.\n",
            "The new value for x3=[-415 -415] when using omega=0.5 is [-440. -440.] with fitness 747.5297044219257.\n",
            "The new value for x1=[-400 -400] when using omega=0.1 is [-412.5 -412.5] with fitness 819.9905472762648.\n",
            "The new value for x2=[-410 -410] when using omega=0.1 is [-417.5 -417.5] with fitness 834.9351365389027.\n",
            "The new value for x3=[-415 -415] when using omega=0.1 is [-420. -420.] with fitness 837.7290352197082.\n"
          ],
          "name": "stdout"
        }
      ]
    },
    {
      "cell_type": "markdown",
      "metadata": {
        "id": "n9zhKhN8ItqV"
      },
      "source": [
        "c) \\\n",
        "omega (ω) is the inertia parameter. It keeps the particle moving in the same direction and velocity. If the parameter omega > 1 then the particles might move too far in their own direction ignoring the swarm. If omege < 1 then they might move too slow and even stop. \\\n",
        "d) \\\n",
        "A disadvanteage of a high value of omega was given in c), the particle could not take the swarm into account enough and keep on going on it's course even if it's wrong. The advantage would be that if it's on the right course it will converge quickly."
      ]
    },
    {
      "cell_type": "markdown",
      "metadata": {
        "id": "tsqylreIbGAi"
      },
      "source": [
        "2. (PSO) [2 points] Consider a particle “swarm” consisting of a single member. How would it perform in a trivial task such as the minimization of $f(x) = x^2$ when $\\omega < 1$, assuming the particle starts with the velocity pointing away from the optimum (e.g. in a state with velocity $v = 10$; position $x = 20$)?"
      ]
    },
    {
      "cell_type": "code",
      "metadata": {
        "id": "xdu94l_ebYX4",
        "colab": {
          "base_uri": "https://localhost:8080/"
        },
        "outputId": "c6b28eea-cf60-4cc0-f5b2-7b3baf63e5da"
      },
      "source": [
        "omega_list = [0.9, 0.6, 0.2, 0.001]\n",
        "\n",
        "for omega in omega_list:\n",
        "  v = 10\n",
        "  x = 20 \n",
        "  print(\"First 10 value for omega=\" + str(omega))\n",
        "  for i in range(20):\n",
        "    new_v = omega*v + alpha1*r1*(x - x) + alpha2*r2*(x - x)\n",
        "    x = x + new_v\n",
        "    fitness = x**2\n",
        "    v = new_v\n",
        "    print(fitness)\n",
        "\n",
        "## Both local and global x are the only possible option which is x, so the two portions to the right are 0 whcih leaves omega*x"
      ],
      "execution_count": null,
      "outputs": [
        {
          "output_type": "stream",
          "text": [
            "First 10 value for omega=0.9\n",
            "841.0\n",
            "1376.41\n",
            "1970.4721\n",
            "2596.004401\n",
            "3232.59336481\n",
            "3865.1474454961\n",
            "4482.74156885184\n",
            "5077.695594969991\n",
            "5644.840863705693\n",
            "6180.937788203611\n",
            "6684.214628186725\n",
            "7154.003366598868\n",
            "7590.453292935939\n",
            "7994.306676669882\n",
            "8366.723966555199\n",
            "8709.148415517047\n",
            "9023.20201891541\n",
            "9310.606257433425\n",
            "9573.122428421822\n",
            "9812.50739093235\n",
            "First 10 value for omega=0.6\n",
            "676.0\n",
            "876.1600000000001\n",
            "1008.6976000000001\n",
            "1092.6991360000004\n",
            "1144.7124889600002\n",
            "1176.5009760256003\n",
            "1195.7830393692163\n",
            "1207.4275069729179\n",
            "1214.4412701902504\n",
            "1218.65927787649\n",
            "1221.1935924003365\n",
            "1222.7154446830014\n",
            "1223.6290109372085\n",
            "1224.177314448192\n",
            "1224.5063555078273\n",
            "1224.703801366705\n",
            "1224.822276522346\n",
            "1224.8933643662442\n",
            "1224.9360180627677\n",
            "1224.9616106371482\n",
            "First 10 value for omega=0.2\n",
            "484.0\n",
            "501.75999999999993\n",
            "505.35039999999987\n",
            "506.0700159999998\n",
            "506.21400063999977\n",
            "506.2428000255998\n",
            "506.2485600010238\n",
            "506.2497120000408\n",
            "506.2499424000015\n",
            "506.2499884799999\n",
            "506.2499976959998\n",
            "506.2499995391998\n",
            "506.2499999078398\n",
            "506.24999998156784\n",
            "506.24999999631353\n",
            "506.2499999992627\n",
            "506.24999999985243\n",
            "506.24999999997044\n",
            "506.2499999999941\n",
            "506.24999999999886\n",
            "First 10 value for omega=0.001\n",
            "400.40010000000007\n",
            "400.40050020010005\n",
            "400.4005006003003\n",
            "400.4005006007005\n",
            "400.4005006007009\n",
            "400.4005006007009\n",
            "400.4005006007009\n",
            "400.4005006007009\n",
            "400.4005006007009\n",
            "400.4005006007009\n",
            "400.4005006007009\n",
            "400.4005006007009\n",
            "400.4005006007009\n",
            "400.4005006007009\n",
            "400.4005006007009\n",
            "400.4005006007009\n",
            "400.4005006007009\n",
            "400.4005006007009\n",
            "400.4005006007009\n",
            "400.4005006007009\n"
          ],
          "name": "stdout"
        }
      ]
    },
    {
      "cell_type": "markdown",
      "metadata": {
        "id": "qhBDupaxGYEt"
      },
      "source": [
        "The particle swarm would converge further and further from the point we are looking for, maximizing it instead of minimizing. The smaller the omega, the slower the maximization."
      ]
    },
    {
      "cell_type": "markdown",
      "metadata": {
        "id": "53D5bR7obYpv"
      },
      "source": [
        "3. (PSO) [2 points] Implement the PSO algorithm for clustering described in “Van der Merwe, D. W., and Andries Petrus Engelbrecht. ”Data clustering using particle swarm optimization.” Evolutionary Computation, 2003. CEC’03. The 2003 Congress on. Vol. 1. IEEE, 2003.” (see also swarm intelligence slides). Implement the k-means clustering.\n",
        "\n",
        "Apply and compare the performance of the two algorithms in terms of quantization error on Artificial dataset 1 and on the Iris dataset (the latter available at UCI ML repository, see https://archive.ics.uci.edu/ml/datasets/iris). In both algorithms, use the true number of clusters as value of the parameter for setting the number of clusters."
      ]
    },
    {
      "cell_type": "code",
      "metadata": {
        "id": "XZCCk8uxGW4w"
      },
      "source": [
        "import numpy as np\n",
        "import math\n",
        "import matplotlib.pyplot as plt\n",
        "from scipy.spatial import distance_matrix\n",
        "from sklearn.datasets import load_iris"
      ],
      "execution_count": null,
      "outputs": []
    },
    {
      "cell_type": "markdown",
      "metadata": {
        "id": "fICS9JDYgZYk"
      },
      "source": [
        "#Load or generate dataset"
      ]
    },
    {
      "cell_type": "code",
      "metadata": {
        "colab": {
          "base_uri": "https://localhost:8080/",
          "height": 268
        },
        "id": "_BGK0YEffM4H",
        "outputId": "a83ff566-2de6-4cf0-93ce-ea0b371499a9"
      },
      "source": [
        "datasetName = 'iris' # you can select 'gen' or 'iris'\n",
        "if datasetName == 'gen': #'gen' stands for the generated (Artificial)\n",
        "  num_data = 400\n",
        "  lb = -1\n",
        "  ub = 1\n",
        "  data = np.random.rand(num_data , 2)*(ub-lb) + lb\n",
        "  label = np.zeros((num_data))\n",
        "  for i in range(num_data):\n",
        "    if data[i,0] >= 0.7 or (data[i,0]<= 0.3 and data[i,1] >= -0.2 - data[i,0]):\n",
        "      label[i] = 1\n",
        "    else:\n",
        "      label[i] = 0\n",
        "    plt.plot(data[label==0,0],data[label==0,1],'.b')  \n",
        "    plt.plot(data[label==1,0],data[label==1,1],'.r')\n",
        "    \n",
        "else:\n",
        "  data = load_iris()\n",
        "  label = data['target']\n",
        "  data = data['data']\n",
        "  plt.plot(data[label==0,0],data[label==0,1],'.b')  \n",
        "  plt.plot(data[label==1,0],data[label==1,1],'.r')\n",
        "  plt.plot(data[label==2,0],data[label==2,1],'.g')\n",
        "  num_data = 150\n",
        "  n_cluster = len(set(label))\n",
        "  lb = np.tile(np.min(data,axis=0) , n_cluster)\n",
        "  ub = np.tile(np.max(data,axis=0) , n_cluster)\n",
        "\n",
        "n_cluster = len(set(label))\n",
        "dim_data = np.size(data, axis = 1)"
      ],
      "execution_count": null,
      "outputs": [
        {
          "output_type": "display_data",
          "data": {
            "image/png": "[encoded data removed]",
            "text/plain": [
              "<Figure size 432x288 with 1 Axes>"
            ]
          },
          "metadata": {
            "tags": [],
            "needs_background": "light"
          }
        }
      ]
    },
    {
      "cell_type": "markdown",
      "metadata": {
        "id": "rew2gb1cgcmJ"
      },
      "source": [
        "#Initializing parameters"
      ]
    },
    {
      "cell_type": "code",
      "metadata": {
        "id": "ghG4r8rogGs-"
      },
      "source": [
        "t_max = 100\n",
        "Pmax = 50\n",
        "dim = dim_data * n_cluster\n",
        "w = 0.4\n",
        "c1 = 1\n",
        "c2 = 1"
      ],
      "execution_count": null,
      "outputs": []
    },
    {
      "cell_type": "code",
      "metadata": {
        "id": "Srjqr8legNeI"
      },
      "source": [
        "def getFitness(x):\n",
        "   x = x.reshape((n_cluster , dim_data))\n",
        "   D = distance_matrix(x, data)\n",
        "   idx = np.argmin(D , axis = 0)\n",
        "   D = np.min(D , axis = 0)\n",
        "   J = 0\n",
        "   for i in range(n_cluster):\n",
        "     J = J + np.sum(D[idx == i])\n",
        "\n",
        "   J = J / n_cluster\n",
        "   return J"
      ],
      "execution_count": null,
      "outputs": []
    },
    {
      "cell_type": "markdown",
      "metadata": {
        "id": "rsbtdrdhgosp"
      },
      "source": [
        "#Initializing population"
      ]
    },
    {
      "cell_type": "code",
      "metadata": {
        "id": "Utm8nlmSgOyy"
      },
      "source": [
        "X = np.random.rand(Pmax , dim) * (ub - lb) + lb\n",
        "V = np.random.randn(Pmax , dim)\n",
        "P = np.array(X)\n",
        "\n",
        "Fit_X = np.ones(Pmax) * np.infty\n",
        "Fit_P = np.ones_like(Fit_X) * np.infty\n",
        "\n",
        "X_best = np.zeros_like(X[0])\n",
        "Fit_best = np.infty"
      ],
      "execution_count": null,
      "outputs": []
    },
    {
      "cell_type": "markdown",
      "metadata": {
        "id": "NT0JohMsgupv"
      },
      "source": [
        "#Main loop"
      ]
    },
    {
      "cell_type": "code",
      "metadata": {
        "colab": {
          "base_uri": "https://localhost:8080/"
        },
        "id": "pU_an4lqgSGI",
        "outputId": "e8a9e448-73eb-4d5f-8d5a-8b56adbed954"
      },
      "source": [
        "plot_best = []\n",
        "for T in range(t_max):\n",
        "\n",
        "  # Get fitness of each individual\n",
        "  for i in range(Pmax):\n",
        "    Fit_X[i] = getFitness(X[i])\n",
        "\n",
        "  # Update Personal bests\n",
        "  P[Fit_X < Fit_P ,] = np.array(X[Fit_X < Fit_P ,])\n",
        "  Fit_P[Fit_X < Fit_P] = np.array(Fit_X[Fit_X < Fit_P])\n",
        "\n",
        "  # Update Global best\n",
        "  if Fit_X.min() < Fit_best :\n",
        "    X_best = X[np.argmin(Fit_X)]\n",
        "    Fit_best = Fit_X.min()\n",
        "\n",
        "  # Calculate velocity  \n",
        "  for i in range(Pmax):\n",
        "    for d in range(dim):\n",
        "      V[i,d] = w * V[i,d] + c1 * np.random.rand()*(P[i,d] - X[i,d]) + c2 * np.random.rand() * (X_best[d] - X[i,d])    \n",
        "\n",
        "  # Update population\n",
        "  X = X + V\n",
        "\n",
        "  print('Generation',str(T+1),'from',str(t_max), 'best_fit = ',str(Fit_best))\n",
        "  plot_best.append(Fit_best)"
      ],
      "execution_count": null,
      "outputs": [
        {
          "output_type": "stream",
          "text": [
            "Generation 1 from 100 best_fit =  66.60073344247938\n",
            "Generation 2 from 100 best_fit =  53.27691120191978\n",
            "Generation 3 from 100 best_fit =  49.799932125898614\n",
            "Generation 4 from 100 best_fit =  47.44604924256043\n",
            "Generation 5 from 100 best_fit =  44.834998289505315\n",
            "Generation 6 from 100 best_fit =  40.40836174674979\n",
            "Generation 7 from 100 best_fit =  38.76806169131545\n",
            "Generation 8 from 100 best_fit =  37.4130501517758\n",
            "Generation 9 from 100 best_fit =  36.0964712464996\n",
            "Generation 10 from 100 best_fit =  35.89799522089084\n",
            "Generation 11 from 100 best_fit =  34.97580283268727\n",
            "Generation 12 from 100 best_fit =  34.489668720426664\n",
            "Generation 13 from 100 best_fit =  34.120238219723234\n",
            "Generation 14 from 100 best_fit =  33.940363946265336\n",
            "Generation 15 from 100 best_fit =  33.742328363457766\n",
            "Generation 16 from 100 best_fit =  33.58327972339536\n",
            "Generation 17 from 100 best_fit =  33.49398868201453\n",
            "Generation 18 from 100 best_fit =  33.43209941918125\n",
            "Generation 19 from 100 best_fit =  33.37079337373549\n",
            "Generation 20 from 100 best_fit =  33.3169182674699\n",
            "Generation 21 from 100 best_fit =  33.273037898872325\n",
            "Generation 22 from 100 best_fit =  33.242183087897104\n",
            "Generation 23 from 100 best_fit =  33.19912577811454\n",
            "Generation 24 from 100 best_fit =  33.17903388348816\n",
            "Generation 25 from 100 best_fit =  33.15699079145754\n",
            "Generation 26 from 100 best_fit =  33.14490555244176\n",
            "Generation 27 from 100 best_fit =  33.13493575284692\n",
            "Generation 28 from 100 best_fit =  33.125055333183155\n",
            "Generation 29 from 100 best_fit =  33.11492095786735\n",
            "Generation 30 from 100 best_fit =  33.10883002125492\n",
            "Generation 31 from 100 best_fit =  33.10360141656511\n",
            "Generation 32 from 100 best_fit =  33.10041077629246\n",
            "Generation 33 from 100 best_fit =  33.09720917489895\n",
            "Generation 34 from 100 best_fit =  33.09453084129018\n",
            "Generation 35 from 100 best_fit =  33.09166700676863\n",
            "Generation 36 from 100 best_fit =  33.08968468147017\n",
            "Generation 37 from 100 best_fit =  33.08812453780922\n",
            "Generation 38 from 100 best_fit =  33.08630259084432\n",
            "Generation 39 from 100 best_fit =  33.08497314461755\n",
            "Generation 40 from 100 best_fit =  33.08419413512454\n",
            "Generation 41 from 100 best_fit =  33.08313910292089\n",
            "Generation 42 from 100 best_fit =  33.08246691093388\n",
            "Generation 43 from 100 best_fit =  33.08162332545695\n",
            "Generation 44 from 100 best_fit =  33.08081749428024\n",
            "Generation 45 from 100 best_fit =  33.08020581221439\n",
            "Generation 46 from 100 best_fit =  33.07954652907066\n",
            "Generation 47 from 100 best_fit =  33.07906555494047\n",
            "Generation 48 from 100 best_fit =  33.078554515870174\n",
            "Generation 49 from 100 best_fit =  33.07815819013169\n",
            "Generation 50 from 100 best_fit =  33.077637078796755\n",
            "Generation 51 from 100 best_fit =  33.077352380577324\n",
            "Generation 52 from 100 best_fit =  33.077105468464644\n",
            "Generation 53 from 100 best_fit =  33.076853652310966\n",
            "Generation 54 from 100 best_fit =  33.076493647331304\n",
            "Generation 55 from 100 best_fit =  33.07623243021249\n",
            "Generation 56 from 100 best_fit =  33.07603424367988\n",
            "Generation 57 from 100 best_fit =  33.07580676536372\n",
            "Generation 58 from 100 best_fit =  33.07564900130257\n",
            "Generation 59 from 100 best_fit =  33.07552328856124\n",
            "Generation 60 from 100 best_fit =  33.075356305192834\n",
            "Generation 61 from 100 best_fit =  33.075245231366885\n",
            "Generation 62 from 100 best_fit =  33.075117130348126\n",
            "Generation 63 from 100 best_fit =  33.07502999587525\n",
            "Generation 64 from 100 best_fit =  33.07490668780461\n",
            "Generation 65 from 100 best_fit =  33.07484123147157\n",
            "Generation 66 from 100 best_fit =  33.07476146385182\n",
            "Generation 67 from 100 best_fit =  33.07471751926404\n",
            "Generation 68 from 100 best_fit =  33.07463767179752\n",
            "Generation 69 from 100 best_fit =  33.07459011973082\n",
            "Generation 70 from 100 best_fit =  33.07451715848672\n",
            "Generation 71 from 100 best_fit =  33.074460591809874\n",
            "Generation 72 from 100 best_fit =  33.07441229436287\n",
            "Generation 73 from 100 best_fit =  33.074363328600306\n",
            "Generation 74 from 100 best_fit =  33.074319185023946\n",
            "Generation 75 from 100 best_fit =  33.07429282684196\n",
            "Generation 76 from 100 best_fit =  33.074267889290475\n",
            "Generation 77 from 100 best_fit =  33.074230134408445\n",
            "Generation 78 from 100 best_fit =  33.074194391440074\n",
            "Generation 79 from 100 best_fit =  33.07416757818032\n",
            "Generation 80 from 100 best_fit =  33.074149216572295\n",
            "Generation 81 from 100 best_fit =  33.074129807457474\n",
            "Generation 82 from 100 best_fit =  33.074111276525805\n",
            "Generation 83 from 100 best_fit =  33.07408318556529\n",
            "Generation 84 from 100 best_fit =  33.07405339152573\n",
            "Generation 85 from 100 best_fit =  33.07403685665964\n",
            "Generation 86 from 100 best_fit =  33.07401940364502\n",
            "Generation 87 from 100 best_fit =  33.07400502267701\n",
            "Generation 88 from 100 best_fit =  33.073988246387444\n",
            "Generation 89 from 100 best_fit =  33.07398093032517\n",
            "Generation 90 from 100 best_fit =  33.07397239841877\n",
            "Generation 91 from 100 best_fit =  33.07396405197786\n",
            "Generation 92 from 100 best_fit =  33.0739562684322\n",
            "Generation 93 from 100 best_fit =  33.073951462872884\n",
            "Generation 94 from 100 best_fit =  33.07394741661036\n",
            "Generation 95 from 100 best_fit =  33.07394368640272\n",
            "Generation 96 from 100 best_fit =  33.073939108062206\n",
            "Generation 97 from 100 best_fit =  33.07393558231312\n",
            "Generation 98 from 100 best_fit =  33.073932493000854\n",
            "Generation 99 from 100 best_fit =  33.07393028711467\n",
            "Generation 100 from 100 best_fit =  33.073926732911744\n"
          ],
          "name": "stdout"
        }
      ]
    },
    {
      "cell_type": "markdown",
      "metadata": {
        "id": "M4ty9kVphJTl"
      },
      "source": [
        "#Plot the process"
      ]
    },
    {
      "cell_type": "code",
      "metadata": {
        "colab": {
          "base_uri": "https://localhost:8080/",
          "height": 297
        },
        "id": "jz4ZRh9_g_v1",
        "outputId": "0eb26b01-5929-477f-f0d1-adc568663300"
      },
      "source": [
        "plt.plot(plot_best)\n",
        "plt.xlabel('Iterations')\n",
        "plt.ylabel('best fitness')"
      ],
      "execution_count": null,
      "outputs": [
        {
          "output_type": "execute_result",
          "data": {
            "text/plain": [
              "Text(0, 0.5, 'best fitness')"
            ]
          },
          "metadata": {
            "tags": []
          },
          "execution_count": 7
        },
        {
          "output_type": "display_data",
          "data": {
            "image/png": "[encoded data removed]",
            "text/plain": [
              "<Figure size 432x288 with 1 Axes>"
            ]
          },
          "metadata": {
            "tags": [],
            "needs_background": "light"
          }
        }
      ]
    },
    {
      "cell_type": "code",
      "metadata": {
        "colab": {
          "base_uri": "https://localhost:8080/",
          "height": 268
        },
        "id": "Ipj9YOSmhCxP",
        "outputId": "84e51c62-810f-4baa-98e7-e580991cc10b"
      },
      "source": [
        "plt.plot(data[label==0,0],data[label==0,1],'.b')\n",
        "plt.plot(data[label==1,0],data[label==1,1],'.r')\n",
        "center = X_best.reshape((n_cluster , dim_data))\n",
        "plt.plot(center[:,0] , center[:,1],'x')\n",
        "\n",
        "if datasetName == 'iris':\n",
        "  plt.plot(data[label==2,0],data[label==2,1],'.g')"
      ],
      "execution_count": null,
      "outputs": [
        {
          "output_type": "display_data",
          "data": {
            "image/png": "[encoded data removed]",
            "text/plain": [
              "<Figure size 432x288 with 1 Axes>"
            ]
          },
          "metadata": {
            "tags": [],
            "needs_background": "light"
          }
        }
      ]
    },
    {
      "cell_type": "markdown",
      "metadata": {
        "id": "pebDiEB1ifZD"
      },
      "source": [
        "As clustering is a search problem, PSO can be used for searching through data to find centers. PSO finds a vector, while centers in our problem are $k$ distinguished vectors. Thus, the paper suggests finding a vector with $D\\times k$ dimensions and changing it to $k$ vectors with D components."
      ]
    },
    {
      "cell_type": "markdown",
      "metadata": {
        "id": "IuZXTSk3hQfN"
      },
      "source": [
        "#Use obtained centers as initial centers for Kmeans"
      ]
    },
    {
      "cell_type": "code",
      "metadata": {
        "id": "fyFHknpmhScm"
      },
      "source": [
        "from sklearn.cluster import KMeans\n",
        "kmeans = KMeans(n_clusters=n_cluster,n_init=1, init=center).fit(data)\n",
        "new_centers = kmeans.cluster_centers_"
      ],
      "execution_count": null,
      "outputs": []
    },
    {
      "cell_type": "code",
      "metadata": {
        "colab": {
          "base_uri": "https://localhost:8080/",
          "height": 268
        },
        "id": "9BoyNj3zhao5",
        "outputId": "49768b29-bf40-4fa8-8b9b-84befaff4444"
      },
      "source": [
        "plt.plot(data[label==0,0],data[label==0,1],'.b')\n",
        "plt.plot(data[label==1,0],data[label==1,1],'.r')\n",
        "plt.plot(new_centers[:,0] , new_centers[:,1],'x')\n",
        "\n",
        "if datasetName == 'iris':\n",
        "  plt.plot(data[label==2,0],data[label==2,1],'.g')"
      ],
      "execution_count": null,
      "outputs": [
        {
          "output_type": "display_data",
          "data": {
            "image/png": "[encoded data removed]",
            "text/plain": [
              "<Figure size 432x288 with 1 Axes>"
            ]
          },
          "metadata": {
            "tags": [],
            "needs_background": "light"
          }
        }
      ]
    },
    {
      "cell_type": "code",
      "metadata": {
        "colab": {
          "base_uri": "https://localhost:8080/"
        },
        "id": "ZmYguEm8heoK",
        "outputId": "1520dcd8-ee23-4515-e823-afbf75e7cf42"
      },
      "source": [
        "getFitness(new_centers.reshape((-1)))"
      ],
      "execution_count": null,
      "outputs": [
        {
          "output_type": "execute_result",
          "data": {
            "text/plain": [
              "32.40828967795775"
            ]
          },
          "metadata": {
            "tags": []
          },
          "execution_count": 11
        }
      ]
    },
    {
      "cell_type": "markdown",
      "metadata": {
        "id": "9jkdM2QxrHTh"
      },
      "source": [
        "The paper suggests using found centroids by PSO in the previous step as initial points of Kmeans instead of random points."
      ]
    },
    {
      "cell_type": "markdown",
      "metadata": {
        "id": "gMobt82bbfLi"
      },
      "source": [
        "4. (ACO) [2 points] Read the paper: Blum, Christian, and Marco Dorigo. ”Search bias in ant colony optimization: On the role of competition-balanced systems.” IEEE Transactions on Evolutionary Computation 9.2 (2005): 159-174. Figure 1 shows a (toy) problem instance for the 2-cardinality tree problem. The 2-cardinality tree problem amounts to finding a subtree T of a given undirected graph G with exactly 2 edges and the minimum possible weight.\n",
        "\n",
        "![Screenshot 2021-02-12 at 19.09.01.png](data:image/png;base64,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)\n",
        "\n",
        "\n",
        "\n",
        "\n",
        "\n"
      ]
    },
    {
      "cell_type": "markdown",
      "metadata": {
        "id": "DdhDr_rSVXAh"
      },
      "source": [
        "(a) Is ACO for this problem a Competition-Balanced System (CBS)? Justify your answer. (A definition of CBS also given in the slides.)"
      ]
    },
    {
      "cell_type": "markdown",
      "metadata": {
        "id": "J5KW8kXgViGJ"
      },
      "source": [
        "The ACO for this problem is not a Competition-Balanced System because some solution components in this cardinality problem occur in a larger number of feasible solutions. "
      ]
    },
    {
      "cell_type": "markdown",
      "metadata": {
        "id": "Sn91PDjWVXb2"
      },
      "source": [
        "(b) If a combination of an ACO algorithm and a problem instance is not a CBS, is the induced bias always harmful? Justify your answer."
      ]
    },
    {
      "cell_type": "markdown",
      "metadata": {
        "id": "uG-zai0GV3hn"
      },
      "source": [
        "The combination of an ACO algorithm and a problem instance is not a CBS does not always imply a harmful induced bias. Some combinations have biases which are desirable - ex: First Order Deceptive Systems."
      ]
    },
    {
      "cell_type": "markdown",
      "metadata": {
        "id": "nVz8LbFBb58k"
      },
      "source": [
        "5. (ACO) [2 point] The figure below shows an example of an instance of a source- destination problem from the ACO book by Dorigo and Stuetzle. The goal is to reach the destination node from the source one using a shortest path through the given graph. What results do you expect for an ant colony algorithm that does not use tabu lists (except for inhibition of immediate return to the previous node)?\n",
        "\n",
        "![Screenshot 2021-02-12 at 19.10.35.png](data:image/png;base64,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)"
      ]
    }
  ]
}